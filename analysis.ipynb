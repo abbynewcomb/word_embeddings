{
 "cells": [
  {
   "cell_type": "code",
   "execution_count": 1,
   "id": "48c32932-e1ea-44dd-b034-10d336b52928",
   "metadata": {},
   "outputs": [
    {
     "name": "stderr",
     "output_type": "stream",
     "text": [
      "/Users/abby/Applications/miniconda3/lib/python3.9/site-packages/gensim/similarities/__init__.py:15: UserWarning: The gensim.similarities.levenshtein submodule is disabled, because the optional Levenshtein package <https://pypi.org/project/python-Levenshtein/> is unavailable. Install Levenhstein (e.g. `pip install python-Levenshtein`) to suppress this warning.\n",
      "  warnings.warn(msg)\n",
      "[nltk_data] Downloading package punkt to /Users/abby/nltk_data...\n",
      "[nltk_data]   Package punkt is already up-to-date!\n",
      "[nltk_data] Downloading package stopwords to /Users/abby/nltk_data...\n",
      "[nltk_data]   Package stopwords is already up-to-date!\n",
      "[nltk_data] Downloading package wordnet to /Users/abby/nltk_data...\n",
      "[nltk_data]   Package wordnet is already up-to-date!\n"
     ]
    }
   ],
   "source": [
    "%matplotlib inline\n",
    "\n",
    "import numpy as np\n",
    "import random\n",
    "import requests as rq\n",
    "import sys\n",
    "import io\n",
    "import re\n",
    "import pandas as pd\n",
    "from gensim import models\n",
    "from nltk.tokenize import sent_tokenize\n",
    "from nltk.stem import WordNetLemmatizer\n",
    "from gensim.models import Word2Vec\n",
    "import nltk\n",
    "nltk.download('punkt')\n",
    "nltk.download('stopwords')\n",
    "nltk.download('wordnet')\n",
    "stop_words = nltk.corpus.stopwords.words('english')\n",
    "lemmatizer = WordNetLemmatizer()"
   ]
  },
  {
   "cell_type": "code",
   "execution_count": 2,
   "id": "27e09066-9d89-4463-9b43-842936f19c72",
   "metadata": {},
   "outputs": [],
   "source": [
    "model_fox = Word2Vec.load(\"./models/fox.model\")\n",
    "model_reuters = Word2Vec.load(\"./models/reuters.model\")\n",
    "model_the_hill = Word2Vec.load(\"./models/the_hill.model\")\n",
    "model_cnn = Word2Vec.load(\"./models/cnn.model\")\n",
    "model_nyt = Word2Vec.load(\"./models/nyt.model\")"
   ]
  },
  {
   "cell_type": "code",
   "execution_count": 3,
   "id": "8b3efb0a-72a0-4701-8008-78b54b3a9f48",
   "metadata": {
    "id": "aVtxa-YW9tg6"
   },
   "outputs": [],
   "source": [
    "adjectives = ['disorganized', 'devious', 'impressionable', 'circumspect', 'impassive', \n",
    "             'aimless', 'effeminate', 'unfathomable', 'fickle', 'unprincipled', 'inoffensive', \n",
    "             'reactive', 'providential', 'resentful', 'bizarre', 'impractical',\n",
    "             'sarcastic', 'misguided', 'imitative', 'pedantic', 'venomous', 'erratic', 'insecure', \n",
    "             'resourceful', 'neurotic', 'forgiving', 'profligate', 'whimsical', 'assertive', \n",
    "             'incorruptible', 'individualistic', 'faithless', 'disconcerting', 'barbaric', \n",
    "             'hypnotic', 'vindictive', 'observant', 'dissolute', 'frightening', 'complacent', \n",
    "             'boisterous', 'pretentious', 'disobedient', 'tasteless', 'sedentary', \n",
    "             'sophisticated', 'regimental', 'mellow', 'deceitful', 'impulsive', 'playful', \n",
    "             'sociable', 'methodical', 'willful', 'idealistic', 'boyish', 'callous', 'pompous', \n",
    "             'unchanging', 'crafty', 'punctual', 'compassionate', 'intolerant', 'challenging', \n",
    "             'scornful', 'possessive', 'conceited', 'imprudent', 'dutiful', 'lovable', \n",
    "             'disloyal', 'dreamy', 'appreciative', 'forgetful', 'unrestrained', 'forceful', \n",
    "             'submissive', 'predatory', 'fanatical', 'illogical', 'tidy', 'aspiring', 'studious', \n",
    "             'adaptable', 'conciliatory', 'artful', 'thoughtless', 'deceptive', 'frugal', \n",
    "             'reflective', 'insulting', 'unreliable', 'stoic', 'hysterical', 'rustic', \n",
    "             'inhibited', 'outspoken', 'unhealthy', 'ascetic', 'skeptical', 'painstaking', \n",
    "             'contemplative', 'leisurely', 'sly', 'mannered', 'outrageous', 'lyrical', \n",
    "             'placid', 'cynical', 'irresponsible', 'vulnerable', 'arrogant', 'persuasive', \n",
    "             'perverse', 'steadfast', 'crisp', 'envious', 'naive', 'greedy', 'presumptuous', \n",
    "             'obnoxious', 'irritable', 'dishonest', 'discreet', 'sporting', 'hateful', \n",
    "             'ungrateful', 'frivolous', 'reactionary', 'skillful', 'cowardly', 'sordid', \n",
    "             'adventurous', 'dogmatic', 'intuitive', 'bland', 'indulgent', 'discontented', \n",
    "             'dominating', 'articulate', 'fanciful', 'discouraging', 'treacherous', \n",
    "             'repressed', 'moody', 'sensual', 'unfriendly', 'optimistic', 'clumsy', \n",
    "             'contemptible', 'focused', 'haughty', 'morbid', 'disorderly', 'considerate', \n",
    "             'humorous', 'preoccupied', 'airy', 'impersonal', 'cultured', 'trusting', \n",
    "             'respectful', 'scrupulous', 'scholarly', 'superstitious', 'tolerant', \n",
    "             'realistic', 'malicious', 'irrational', 'sane', 'colorless', 'masculine', \n",
    "             'witty', 'inert', 'prejudiced', 'fraudulent', 'blunt', 'childish', 'brittle', \n",
    "             'disciplined', 'responsive', 'courageous', 'bewildered', 'courteous', \n",
    "             'stubborn', 'aloof', 'sentimental', 'athletic', 'extravagant', 'brutal', \n",
    "             'manly', 'cooperative', 'unstable', 'youthful', 'timid', 'amiable', 'retiring', \n",
    "             'fiery', 'confidential', 'relaxed', 'imaginative', 'mystical', 'shrewd', \n",
    "             'conscientious', 'monstrous', 'grim', 'questioning', 'lazy', 'dynamic', \n",
    "             'gloomy', 'troublesome', 'abrupt', 'eloquent', 'dignified', 'hearty', 'gallant', \n",
    "             'benevolent', 'maternal', 'paternal', 'patriotic', 'aggressive', 'competitive', \n",
    "             'elegant', 'flexible', 'gracious', 'energetic', 'tough', 'contradictory', \n",
    "             'shy', 'careless', 'cautious', 'polished', 'sage', 'tense', 'caring', \n",
    "             'suspicious', 'sober', 'neat', 'transparent', 'disturbing', 'passionate', \n",
    "             'obedient', 'crazy', 'restrained', 'fearful', 'daring', 'prudent', 'demanding', \n",
    "             'impatient', 'cerebral', 'calculating', 'amusing', 'honorable', 'casual',\n",
    "             'sharing', 'selfish', 'ruined', 'spontaneous', 'admirable', 'conventional', \n",
    "             'cheerful', 'solitary', 'upright', 'stiff', 'enthusiastic', 'petty', 'dirty', \n",
    "             'subjective', 'heroic', 'stupid', 'modest', 'impressive', 'orderly', 'ambitious', \n",
    "             'protective', 'silly', 'alert', 'destructive', 'exciting', 'crude', 'ridiculous', \n",
    "             'subtle', 'mature', 'creative', 'coarse', 'passive', 'oppressed', 'accessible', \n",
    "             'charming', 'clever', 'decent', 'miserable', 'superficial', 'shallow', 'stern', \n",
    "             'winning', 'balanced', 'emotional', 'rigid', 'invisible', 'desperate', 'cruel', \n",
    "             'romantic', 'agreeable', 'hurried', 'sympathetic', 'solemn', 'systematic', \n",
    "             'vague', 'peaceful', 'humble', 'dull', 'expedient', 'loyal', 'decisive', \n",
    "             'arbitrary', 'earnest', 'confident', 'conservative', 'foolish', 'moderate', \n",
    "             'helpful', 'delicate', 'gentle', 'dedicated', 'hostile', 'generous', 'reliable', \n",
    "             'dramatic', 'precise', 'calm', 'healthy', 'attractive', 'artificial', \n",
    "             'progressive', 'odd', 'confused', 'rational', 'brilliant', 'intense', \n",
    "             'genuine', 'mistaken', 'driving', 'stable', 'objective', 'sensitive', \n",
    "             'neutral', 'strict', 'angry', 'profound', 'smooth', 'ignorant', 'thorough', \n",
    "             'logical', 'intelligent', 'extraordinary', 'experimental', 'steady', \n",
    "             'formal', 'faithful', 'curious', 'reserved', 'honest', 'busy', 'educated', \n",
    "             'liberal', 'friendly', 'efficient', 'sweet', 'surprising', 'mechanical', \n",
    "             'clean', 'critical', 'criminal', 'soft', 'proud', 'quiet', 'weak', 'anxious', \n",
    "             'solid', 'complex', 'grand', 'warm', 'slow', 'false', 'extreme', 'narrow', \n",
    "             'dependent', 'wise', 'organized', 'pure', 'directed', 'dry', 'obvious', 'popular', \n",
    "             'capable', 'secure', 'active', 'independent', 'ordinary', 'fixed', 'practical', \n",
    "             'serious', 'fair', 'understanding', 'constant', 'cold', 'responsible', 'deep', \n",
    "             'religious', 'private', 'simple', 'physical', 'original', 'working', 'strong', \n",
    "             'modern', 'determined', 'open', 'political', 'difficult', 'knowledge', 'kind']"
   ]
  },
  {
   "cell_type": "code",
   "execution_count": 4,
   "id": "98a03429-2b5d-4f25-b62e-de97350a90aa",
   "metadata": {
    "id": "R0zwzzLJE15h"
   },
   "outputs": [],
   "source": [
    "testing_words = [\"gun\", \"metoo\", \"america\", \"tax\", \"abortion\", \"democrat\", \"republican\", \"nra\", \n",
    "                 \"trump\", \"biden\", \"china\", \"gay\", \"lesbian\"]"
   ]
  },
  {
   "cell_type": "code",
   "execution_count": 17,
   "id": "1181cf8d-9f88-496a-81a0-67f1d79ca852",
   "metadata": {
    "colab": {
     "base_uri": "https://localhost:8080/"
    },
    "id": "mqDduKH06o4J",
    "outputId": "cfb00c98-aee8-40c7-94bd-ef07e8a1a8ae"
   },
   "outputs": [],
   "source": [
    "def print_adj_dists(model, news_source, word_list):    \n",
    "    for word in word_list:\n",
    "      word_dists = []\n",
    "      for ind in range(len(adjectives)):\n",
    "        adj = adjectives[ind]\n",
    "        try:\n",
    "          dist = model.wv.distance(word, adj)\n",
    "          word_dists.append([news_source, word, adj, dist])\n",
    "        except:\n",
    "          word_dists.append([news_source, word, adj, None])\n",
    "\n",
    "      df = pd.DataFrame(word_dists, columns=['source','word', 'adj', 'dist'])\n",
    "\n",
    "      print(df.shape)\n",
    "\n",
    "      df_sorted = df.sort_values(by='dist', ascending=True)\n",
    "      print(df_sorted.head(5))\n",
    "        \n",
    "def print_word_dists_each_model(wordlist):\n",
    "    print_adj_dists(model_fox, \"Fox News\", wordlist)\n",
    "    print_adj_dists(model_reuters, \"Reuters\", wordlist)\n",
    "    print_adj_dists(model_the_hill, \"The Hill\", wordlist)\n",
    "    print_adj_dists(model_nyt, \"NYT\", wordlist)\n",
    "    print_adj_dists(model_cnn, \"CNN\", wordlist)"
   ]
  },
  {
   "cell_type": "code",
   "execution_count": 18,
   "id": "c9f995d0-5eeb-4b06-8eab-59bf47d36072",
   "metadata": {},
   "outputs": [
    {
     "name": "stdout",
     "output_type": "stream",
     "text": [
      "(423, 4)\n",
      "       source   word             adj      dist\n",
      "2    Fox News  woman  impressionable  0.448281\n",
      "92   Fox News  woman           stoic  0.483701\n",
      "86   Fox News  woman     thoughtless  0.492474\n",
      "76   Fox News  woman      submissive  0.493639\n",
      "359  Fox News  woman        faithful  0.506519\n",
      "(423, 4)\n",
      "      source   word         adj      dist\n",
      "6    Reuters  woman  effeminate  0.382414\n",
      "171  Reuters  woman   masculine  0.408297\n",
      "217  Reuters  woman    maternal  0.439024\n",
      "234  Reuters  woman      caring  0.454147\n",
      "183  Reuters  woman   courteous  0.470623\n",
      "(423, 4)\n",
      "       source   word             adj      dist\n",
      "2    The Hill  woman  impressionable  0.500812\n",
      "302  The Hill  woman        romantic  0.504851\n",
      "36   The Hill  woman       observant  0.514832\n",
      "76   The Hill  woman      submissive  0.528473\n",
      "181  The Hill  woman      courageous  0.547238\n",
      "(423, 4)\n",
      "    source   word             adj      dist\n",
      "76     NYT  woman      submissive  0.407920\n",
      "6      NYT  woman      effeminate  0.456955\n",
      "137    NYT  woman    discontented  0.481431\n",
      "42     NYT  woman     disobedient  0.483565\n",
      "2      NYT  woman  impressionable  0.485092\n",
      "(423, 4)\n",
      "    source   word         adj      dist\n",
      "95     CNN  woman   inhibited  0.478018\n",
      "76     CNN  woman  submissive  0.488399\n",
      "364    CNN  woman    educated  0.489200\n",
      "171    CNN  woman   masculine  0.503283\n",
      "54     CNN  woman  idealistic  0.508199\n"
     ]
    }
   ],
   "source": [
    "print_word_dists_each_model(['woman'])"
   ]
  },
  {
   "cell_type": "code",
   "execution_count": 28,
   "id": "8f381197-2c4b-43d4-9324-d44b48ee80e8",
   "metadata": {},
   "outputs": [
    {
     "name": "stdout",
     "output_type": "stream",
     "text": [
      "(423, 4)\n",
      "       source word         adj      dist\n",
      "70   Fox News  nra    disloyal  0.462707\n",
      "215  Fox News  nra     gallant  0.482656\n",
      "43   Fox News  nra   tasteless  0.490622\n",
      "183  Fox News  nra   courteous  0.500640\n",
      "40   Fox News  nra  boisterous  0.510536\n",
      "(423, 4)\n",
      "      source word          adj      dist\n",
      "87   Reuters  nra    deceptive  0.496788\n",
      "409  Reuters  nra    religious  0.509816\n",
      "64   Reuters  nra     scornful  0.514046\n",
      "17   Reuters  nra    misguided  0.540923\n",
      "292  Reuters  nra  superficial  0.541505\n",
      "(423, 4)\n",
      "       source word         adj      dist\n",
      "115  The Hill  nra       crisp  0.525751\n",
      "124  The Hill  nra    sporting  0.615989\n",
      "182  The Hill  nra  bewildered  0.628105\n",
      "92   The Hill  nra       stoic  0.631830\n",
      "76   The Hill  nra  submissive  0.632756\n",
      "(423, 4)\n",
      "    source word           adj      dist\n",
      "119    NYT  nra  presumptuous  0.414142\n",
      "125    NYT  nra       hateful  0.435297\n",
      "9      NYT  nra  unprincipled  0.475774\n",
      "422    NYT  nra          kind  0.477982\n",
      "321    NYT  nra       helpful  0.485022\n",
      "(423, 4)\n",
      "    source word         adj      dist\n",
      "285    CNN  nra     passive  0.531949\n",
      "67     CNN  nra   imprudent  0.543371\n",
      "169    CNN  nra        sane  0.547511\n",
      "240    CNN  nra  passionate  0.574131\n",
      "31     CNN  nra   faithless  0.574176\n"
     ]
    }
   ],
   "source": [
    "print_word_dists_each_model(['nra'])"
   ]
  },
  {
   "cell_type": "code",
   "execution_count": 29,
   "id": "dc158751-5cf9-43dd-9a97-2a746cd8670c",
   "metadata": {},
   "outputs": [
    {
     "name": "stdout",
     "output_type": "stream",
     "text": [
      "(423, 4)\n",
      "       source   word          adj      dist\n",
      "131  Fox News  metoo       sordid  0.397127\n",
      "81   Fox News  metoo     aspiring  0.448535\n",
      "96   Fox News  metoo    outspoken  0.494659\n",
      "257  Fox News  metoo  spontaneous  0.505243\n",
      "75   Fox News  metoo     forceful  0.507450\n",
      "(423, 4)\n",
      "      source   word         adj      dist\n",
      "93   Reuters  metoo  hysterical  0.410461\n",
      "6    Reuters  metoo  effeminate  0.440745\n",
      "62   Reuters  metoo  intolerant  0.446195\n",
      "297  Reuters  metoo   emotional  0.467436\n",
      "239  Reuters  metoo  disturbing  0.469760\n",
      "(423, 4)\n",
      "       source   word          adj      dist\n",
      "257  The Hill  metoo  spontaneous  0.451610\n",
      "200  The Hill  metoo  imaginative  0.477864\n",
      "212  The Hill  metoo     eloquent  0.485439\n",
      "133  The Hill  metoo     dogmatic  0.486279\n",
      "93   The Hill  metoo   hysterical  0.489868\n",
      "(423, 4)\n",
      "    source   word           adj      dist\n",
      "93     NYT  metoo    hysterical  0.494415\n",
      "128    NYT  metoo   reactionary  0.513331\n",
      "133    NYT  metoo      dogmatic  0.522175\n",
      "64     NYT  metoo      scornful  0.548170\n",
      "119    NYT  metoo  presumptuous  0.549713\n",
      "(423, 4)\n",
      "    source   word          adj      dist\n",
      "212    CNN  metoo     eloquent  0.445763\n",
      "10     CNN  metoo  inoffensive  0.466384\n",
      "40     CNN  metoo   boisterous  0.489204\n",
      "54     CNN  metoo   idealistic  0.505109\n",
      "184    CNN  metoo     stubborn  0.506617\n"
     ]
    }
   ],
   "source": [
    "print_word_dists_each_model(['metoo'])"
   ]
  },
  {
   "cell_type": "code",
   "execution_count": 31,
   "id": "e74896ee-711e-4247-a9d5-7f16efc369c6",
   "metadata": {},
   "outputs": [
    {
     "name": "stdout",
     "output_type": "stream",
     "text": [
      "(423, 4)\n",
      "       source      word            adj      dist\n",
      "286  Fox News  american      oppressed  0.430025\n",
      "143  Fox News  american      repressed  0.470680\n",
      "203  Fox News  american  conscientious  0.476445\n",
      "183  Fox News  american      courteous  0.496688\n",
      "303  Fox News  american      agreeable  0.500179\n",
      "(423, 4)\n",
      "      source      word           adj      dist\n",
      "182  Reuters  american    bewildered  0.555218\n",
      "64   Reuters  american      scornful  0.565878\n",
      "0    Reuters  american  disorganized  0.575307\n",
      "20   Reuters  american      venomous  0.578273\n",
      "187  Reuters  american      athletic  0.583312\n",
      "(423, 4)\n",
      "       source      word             adj      dist\n",
      "44   The Hill  american       sedentary  0.452374\n",
      "13   The Hill  american       resentful  0.462171\n",
      "216  The Hill  american      benevolent  0.483714\n",
      "399  The Hill  american        ordinary  0.485799\n",
      "2    The Hill  american  impressionable  0.493461\n",
      "(423, 4)\n",
      "    source      word           adj      dist\n",
      "137    NYT  american  discontented  0.485100\n",
      "399    NYT  american      ordinary  0.500217\n",
      "46     NYT  american    regimental  0.513777\n",
      "67     NYT  american     imprudent  0.528417\n",
      "219    NYT  american     patriotic  0.533163\n",
      "(423, 4)\n",
      "    source      word          adj      dist\n",
      "128    CNN  american  reactionary  0.470266\n",
      "216    CNN  american   benevolent  0.491696\n",
      "399    CNN  american     ordinary  0.494045\n",
      "36     CNN  american    observant  0.500838\n",
      "290    CNN  american       decent  0.526771\n"
     ]
    }
   ],
   "source": [
    "print_word_dists_each_model(['american'])"
   ]
  },
  {
   "cell_type": "code",
   "execution_count": null,
   "id": "f1735e19-6d6d-402d-8690-da799594da81",
   "metadata": {},
   "outputs": [],
   "source": []
  }
 ],
 "metadata": {
  "kernelspec": {
   "display_name": "Python 3",
   "language": "python",
   "name": "python3"
  },
  "language_info": {
   "codemirror_mode": {
    "name": "ipython",
    "version": 3
   },
   "file_extension": ".py",
   "mimetype": "text/x-python",
   "name": "python",
   "nbconvert_exporter": "python",
   "pygments_lexer": "ipython3",
   "version": "3.9.5"
  }
 },
 "nbformat": 4,
 "nbformat_minor": 5
}
