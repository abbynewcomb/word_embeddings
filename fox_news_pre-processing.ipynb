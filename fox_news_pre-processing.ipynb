{
 "cells": [
  {
   "cell_type": "code",
   "execution_count": 60,
   "id": "38aa15f8-0278-4d6c-ae95-3bb5b342e0ca",
   "metadata": {},
   "outputs": [
    {
     "name": "stderr",
     "output_type": "stream",
     "text": [
      "[nltk_data] Downloading package punkt to /Users/abby/nltk_data...\n",
      "[nltk_data]   Package punkt is already up-to-date!\n",
      "[nltk_data] Downloading package stopwords to /Users/abby/nltk_data...\n",
      "[nltk_data]   Package stopwords is already up-to-date!\n",
      "[nltk_data] Downloading package wordnet to /Users/abby/nltk_data...\n",
      "[nltk_data]   Package wordnet is already up-to-date!\n"
     ]
    }
   ],
   "source": [
    "%matplotlib inline\n",
    "\n",
    "import numpy as np\n",
    "import random\n",
    "import requests as rq\n",
    "import sys\n",
    "import io\n",
    "import re\n",
    "import pandas as pd\n",
    "from nltk.tokenize import sent_tokenize\n",
    "from nltk.stem import WordNetLemmatizer\n",
    "import nltk\n",
    "nltk.download('punkt')\n",
    "nltk.download('stopwords')\n",
    "nltk.download('wordnet')\n",
    "stop_words = nltk.corpus.stopwords.words('english')\n",
    "lemmatizer = WordNetLemmatizer()"
   ]
  },
  {
   "cell_type": "code",
   "execution_count": 3,
   "id": "883ed2ca-7642-4aec-81a3-b8a8a8c5fce3",
   "metadata": {},
   "outputs": [],
   "source": [
    "df_fox = pd.read_csv ('/Users/abby/Documents/fa21-neural-networks/final_project/fox_news.csv')"
   ]
  },
  {
   "cell_type": "code",
   "execution_count": 11,
   "id": "d803cc0f-fa7a-470d-885b-69ae73d70f16",
   "metadata": {},
   "outputs": [
    {
     "data": {
      "text/html": [
       "<div>\n",
       "<style scoped>\n",
       "    .dataframe tbody tr th:only-of-type {\n",
       "        vertical-align: middle;\n",
       "    }\n",
       "\n",
       "    .dataframe tbody tr th {\n",
       "        vertical-align: top;\n",
       "    }\n",
       "\n",
       "    .dataframe thead th {\n",
       "        text-align: right;\n",
       "    }\n",
       "</style>\n",
       "<table border=\"1\" class=\"dataframe\">\n",
       "  <thead>\n",
       "    <tr style=\"text-align: right;\">\n",
       "      <th></th>\n",
       "      <th>article</th>\n",
       "    </tr>\n",
       "  </thead>\n",
       "  <tbody>\n",
       "    <tr>\n",
       "      <th>0</th>\n",
       "      <td>Consumer Reports has no financial relationship...</td>\n",
       "    </tr>\n",
       "    <tr>\n",
       "      <th>1</th>\n",
       "      <td>\\n          Parma Justice Center (pictured) si...</td>\n",
       "    </tr>\n",
       "    <tr>\n",
       "      <th>2</th>\n",
       "      <td>HUNTSVILLE, Texas –  The lure of drugs and sex...</td>\n",
       "    </tr>\n",
       "    <tr>\n",
       "      <th>3</th>\n",
       "      <td>\\n          November 19, 2015.  Will Smith pos...</td>\n",
       "    </tr>\n",
       "    <tr>\n",
       "      <th>4</th>\n",
       "      <td>\\n          A video has gone viral of a teenag...</td>\n",
       "    </tr>\n",
       "    <tr>\n",
       "      <th>...</th>\n",
       "      <td>...</td>\n",
       "    </tr>\n",
       "    <tr>\n",
       "      <th>17619</th>\n",
       "      <td>close Video House Rules Committee to meet on r...</td>\n",
       "    </tr>\n",
       "    <tr>\n",
       "      <th>17620</th>\n",
       "      <td>\\n          FBI agents searched a Georgia land...</td>\n",
       "    </tr>\n",
       "    <tr>\n",
       "      <th>17621</th>\n",
       "      <td>close Video Kim Jong Un’s most bizarre claims ...</td>\n",
       "    </tr>\n",
       "    <tr>\n",
       "      <th>17622</th>\n",
       "      <td>close Video Moon golf: How Astronaut Alan Shep...</td>\n",
       "    </tr>\n",
       "    <tr>\n",
       "      <th>17623</th>\n",
       "      <td>\\n \\n \\n City, State \\n Station \\n Time \\n \\...</td>\n",
       "    </tr>\n",
       "  </tbody>\n",
       "</table>\n",
       "<p>17617 rows × 1 columns</p>\n",
       "</div>"
      ],
      "text/plain": [
       "                                                 article\n",
       "0      Consumer Reports has no financial relationship...\n",
       "1      \\n          Parma Justice Center (pictured) si...\n",
       "2      HUNTSVILLE, Texas –  The lure of drugs and sex...\n",
       "3      \\n          November 19, 2015.  Will Smith pos...\n",
       "4      \\n          A video has gone viral of a teenag...\n",
       "...                                                  ...\n",
       "17619  close Video House Rules Committee to meet on r...\n",
       "17620  \\n          FBI agents searched a Georgia land...\n",
       "17621  close Video Kim Jong Un’s most bizarre claims ...\n",
       "17622  close Video Moon golf: How Astronaut Alan Shep...\n",
       "17623    \\n \\n \\n City, State \\n Station \\n Time \\n \\...\n",
       "\n",
       "[17617 rows x 1 columns]"
      ]
     },
     "execution_count": 11,
     "metadata": {},
     "output_type": "execute_result"
    }
   ],
   "source": [
    "# dropping NAs\n",
    "df_fox.dropna(inplace=True)\n",
    "df_fox.reset_index(inplace=True,drop=True)\n",
    "\n",
    "# dropping duplicate values\n",
    "df_fox.drop_duplicates()"
   ]
  },
  {
   "cell_type": "code",
   "execution_count": 46,
   "id": "de578332-6682-4100-bc53-d47ae73a7ca0",
   "metadata": {},
   "outputs": [],
   "source": [
    "def remove_link_punc(string):\n",
    "    # removing links\n",
    "    temp_string = re.sub('http[s]?://(?:[a-zA-Z]|[0–9]|[$-_@.&+]|(?:%[0–9a-fA-F][0–9a-fA-F]))+', ' ', string)\n",
    "    \n",
    "    # removing all everything except a-z english letters\n",
    "    regex = re.compile('[^a-zA-Z]')\n",
    "    temp_string = regex.sub(' ', temp_string)\n",
    "    \n",
    "    # removing extra spaces\n",
    "    clean_string = re.sub(' +', ' ', temp_string).lower()\n",
    "    return clean_string\n",
    "\n",
    "\n",
    "def data_cleaning(content):\n",
    "    sentences = []\n",
    "    for idx in range(len(content)):\n",
    "        if content[idx] !=\"\":\n",
    "            # Sentence tokenization using NLTK library\n",
    "            for each_sent in sent_tokenize(str(content[idx])):\n",
    "                if each_sent != \"\":\n",
    "                    temp_sent = []\n",
    "\n",
    "                # Removing link and punctuation\n",
    "                each_sent = remove_link_punc(each_sent.lower())\n",
    "\n",
    "                # Removing stopwords and applying lemmatization\n",
    "                for each_word in each_sent.split():\n",
    "                    if each_word not in stop_words and len(each_word)>= 3:\n",
    "                        temp_sent.append(lemmatizer.lemmatize(each_word))\n",
    "\n",
    "                # Only taking word list if length is greater than or equal to 5\n",
    "                if len(temp_sent) >= 5:\n",
    "                    sentences.append(temp_sent)\n",
    "    return sentences"
   ]
  },
  {
   "cell_type": "code",
   "execution_count": 59,
   "id": "d6abfe43-a35c-4d62-a128-4be32a3211e5",
   "metadata": {},
   "outputs": [],
   "source": [
    "fox_corpus = data_cleaning(df_fox.article)"
   ]
  },
  {
   "cell_type": "code",
   "execution_count": 70,
   "id": "ab032057-c222-4aad-be54-720123c5f9ae",
   "metadata": {},
   "outputs": [
    {
     "data": {
      "text/plain": [
       "438668"
      ]
     },
     "execution_count": 70,
     "metadata": {},
     "output_type": "execute_result"
    }
   ],
   "source": [
    "len(fox_corpus)"
   ]
  },
  {
   "cell_type": "code",
   "execution_count": 74,
   "id": "2bb73b1d-71b8-4c22-801c-06307b4b6f7a",
   "metadata": {},
   "outputs": [
    {
     "data": {
      "text/plain": [
       "['dot',\n",
       " 'posted',\n",
       " 'photo',\n",
       " 'smoke',\n",
       " 'crack',\n",
       " 'coming',\n",
       " 'roadway',\n",
       " 'behind',\n",
       " 'barricade']"
      ]
     },
     "execution_count": 74,
     "metadata": {},
     "output_type": "execute_result"
    }
   ],
   "source": [
    "fox_corpus[235]"
   ]
  },
  {
   "cell_type": "code",
   "execution_count": null,
   "id": "67a5a050-f2ea-4499-a479-129d94096355",
   "metadata": {},
   "outputs": [],
   "source": []
  }
 ],
 "metadata": {
  "kernelspec": {
   "display_name": "Python 3",
   "language": "python",
   "name": "python3"
  },
  "language_info": {
   "codemirror_mode": {
    "name": "ipython",
    "version": 3
   },
   "file_extension": ".py",
   "mimetype": "text/x-python",
   "name": "python",
   "nbconvert_exporter": "python",
   "pygments_lexer": "ipython3",
   "version": "3.9.5"
  }
 },
 "nbformat": 4,
 "nbformat_minor": 5
}
