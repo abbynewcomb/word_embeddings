{
 "cells": [
  {
   "cell_type": "code",
   "execution_count": 1,
   "id": "583a3d96-e0d8-40ae-817a-5aacac76c21a",
   "metadata": {},
   "outputs": [],
   "source": [
    "%matplotlib inline\n",
    "\n",
    "import numpy as np\n",
    "import random\n",
    "import requests as rq\n",
    "import sys\n",
    "import io\n",
    "import pandas as pd\n",
    "from bs4 import BeautifulSoup\n",
    "from keras.callbacks import LambdaCallback\n",
    "from keras.models import Sequential\n",
    "from keras.layers import Dense, LSTM\n",
    "from tensorflow.keras.optimizers import RMSprop\n",
    "from collections import Counter\n",
    "from datetime import datetime\n",
    "import keras\n",
    "import keras.callbacks\n",
    "from keras.callbacks import TensorBoard\n",
    "%load_ext tensorboard"
   ]
  },
  {
   "cell_type": "code",
   "execution_count": 2,
   "id": "9622787e-577a-4be1-b819-a460bdd6171e",
   "metadata": {},
   "outputs": [
    {
     "name": "stderr",
     "output_type": "stream",
     "text": [
      "/Users/abby/Applications/miniconda3/lib/python3.9/site-packages/IPython/core/interactiveshell.py:3441: DtypeWarning: Columns (1,3,5) have mixed types.Specify dtype option on import or set low_memory=False.\n",
      "  exec(code_obj, self.user_global_ns, self.user_ns)\n"
     ]
    }
   ],
   "source": [
    "df = pd.read_csv ('/Users/abby/Documents/fa21-neural-networks/final_project/all-the-news-2-1.csv')"
   ]
  },
  {
   "cell_type": "code",
   "execution_count": 3,
   "id": "efc9c6a9-3a06-4bcb-88ed-d877637872b7",
   "metadata": {},
   "outputs": [
    {
     "data": {
      "text/plain": [
       "Index(['Unnamed: 0', 'Unnamed: 0.1', 'date', 'year', 'month', 'day', 'author',\n",
       "       'title', 'article', 'url', 'section', 'publication'],\n",
       "      dtype='object')"
      ]
     },
     "execution_count": 3,
     "metadata": {},
     "output_type": "execute_result"
    }
   ],
   "source": [
    "df.columns"
   ]
  },
  {
   "cell_type": "code",
   "execution_count": 4,
   "id": "a8dbd32d-61cd-4e91-b688-12ce8aedd317",
   "metadata": {},
   "outputs": [
    {
     "data": {
      "text/html": [
       "<div>\n",
       "<style scoped>\n",
       "    .dataframe tbody tr th:only-of-type {\n",
       "        vertical-align: middle;\n",
       "    }\n",
       "\n",
       "    .dataframe tbody tr th {\n",
       "        vertical-align: top;\n",
       "    }\n",
       "\n",
       "    .dataframe thead th {\n",
       "        text-align: right;\n",
       "    }\n",
       "</style>\n",
       "<table border=\"1\" class=\"dataframe\">\n",
       "  <thead>\n",
       "    <tr style=\"text-align: right;\">\n",
       "      <th></th>\n",
       "      <th>Unnamed: 0</th>\n",
       "      <th>Unnamed: 0.1</th>\n",
       "      <th>date</th>\n",
       "      <th>month</th>\n",
       "      <th>day</th>\n",
       "      <th>author</th>\n",
       "      <th>title</th>\n",
       "      <th>article</th>\n",
       "      <th>url</th>\n",
       "      <th>section</th>\n",
       "      <th>publication</th>\n",
       "    </tr>\n",
       "    <tr>\n",
       "      <th>year</th>\n",
       "      <th></th>\n",
       "      <th></th>\n",
       "      <th></th>\n",
       "      <th></th>\n",
       "      <th></th>\n",
       "      <th></th>\n",
       "      <th></th>\n",
       "      <th></th>\n",
       "      <th></th>\n",
       "      <th></th>\n",
       "      <th></th>\n",
       "    </tr>\n",
       "  </thead>\n",
       "  <tbody>\n",
       "    <tr>\n",
       "      <th>2016</th>\n",
       "      <td>56</td>\n",
       "      <td>56</td>\n",
       "      <td>56</td>\n",
       "      <td>56</td>\n",
       "      <td>56</td>\n",
       "      <td>56</td>\n",
       "      <td>56</td>\n",
       "      <td>56</td>\n",
       "      <td>56</td>\n",
       "      <td>56</td>\n",
       "      <td>56</td>\n",
       "    </tr>\n",
       "    <tr>\n",
       "      <th>2017</th>\n",
       "      <td>2464</td>\n",
       "      <td>2464</td>\n",
       "      <td>2464</td>\n",
       "      <td>2464</td>\n",
       "      <td>2464</td>\n",
       "      <td>2464</td>\n",
       "      <td>2464</td>\n",
       "      <td>2464</td>\n",
       "      <td>2464</td>\n",
       "      <td>2464</td>\n",
       "      <td>2464</td>\n",
       "    </tr>\n",
       "    <tr>\n",
       "      <th>2018</th>\n",
       "      <td>17624</td>\n",
       "      <td>17624</td>\n",
       "      <td>17624</td>\n",
       "      <td>17624</td>\n",
       "      <td>17624</td>\n",
       "      <td>17624</td>\n",
       "      <td>17624</td>\n",
       "      <td>17624</td>\n",
       "      <td>17624</td>\n",
       "      <td>17624</td>\n",
       "      <td>17624</td>\n",
       "    </tr>\n",
       "  </tbody>\n",
       "</table>\n",
       "</div>"
      ],
      "text/plain": [
       "      Unnamed: 0  Unnamed: 0.1   date  month    day  author  title  article  \\\n",
       "year                                                                          \n",
       "2016          56            56     56     56     56      56     56       56   \n",
       "2017        2464          2464   2464   2464   2464    2464   2464     2464   \n",
       "2018       17624         17624  17624  17624  17624   17624  17624    17624   \n",
       "\n",
       "        url  section  publication  \n",
       "year                               \n",
       "2016     56       56           56  \n",
       "2017   2464     2464         2464  \n",
       "2018  17624    17624        17624  "
      ]
     },
     "execution_count": 4,
     "metadata": {},
     "output_type": "execute_result"
    }
   ],
   "source": [
    "df[df['publication']=='Fox News'].groupby('year').count()"
   ]
  },
  {
   "cell_type": "code",
   "execution_count": 5,
   "id": "d618e312-c738-430f-a901-24d6b78e15e6",
   "metadata": {},
   "outputs": [],
   "source": [
    "df_fox_news = df[df['publication'] == \"Fox News\"]\n",
    "df_fox_news = df_fox_news[df_fox_news['year'] == 2018]\n",
    "df_fox_news = df_fox_news[['article']]\n",
    "df_fox_news.to_csv('fox_news.csv', index=False)"
   ]
  },
  {
   "cell_type": "code",
   "execution_count": 7,
   "id": "8ca9cb8a-7bae-4f18-9453-7ddabbc77aef",
   "metadata": {},
   "outputs": [],
   "source": [
    "df_cnn = df[df['publication'] == \"CNN\"]\n",
    "df_cnn = df_cnn[df_cnn['year'] == 2018]\n",
    "df_cnn = df_cnn[['article']]\n",
    "df_cnn.to_csv('cnn.csv', index=False)"
   ]
  },
  {
   "cell_type": "code",
   "execution_count": 8,
   "id": "6e4b508f-859a-4718-96e6-85e1bfd5353c",
   "metadata": {},
   "outputs": [],
   "source": [
    "df_the_hill = df[df['publication'] == \"The Hill\"]\n",
    "df_the_hill = df_the_hill[df_the_hill['year'] == 2018]\n",
    "df_the_hill = df_the_hill[['article']]\n",
    "df_the_hill.to_csv('the_hill.csv', index=False)"
   ]
  },
  {
   "cell_type": "code",
   "execution_count": 9,
   "id": "6f823a5e-d31a-4da2-9564-5175ca51134b",
   "metadata": {},
   "outputs": [],
   "source": [
    "df_reuters = df[df['publication'] == \"Reuters\"]\n",
    "df_reuters = df_reuters[df_reuters['year'] == 2018]\n",
    "df_reuters = df_reuters[['article']]\n",
    "df_reuters.to_csv('reuters.csv', index=False)"
   ]
  },
  {
   "cell_type": "code",
   "execution_count": 10,
   "id": "042d107b-3891-4ec2-8abd-de5daf4bdf3c",
   "metadata": {},
   "outputs": [],
   "source": [
    "df_nyt = df[df['publication'] == \"The New York Times\"]\n",
    "df_nyt = df_nyt[df_nyt['year'] == 2018]\n",
    "df_nyt = df_nyt[['article']]\n",
    "df_nyt.to_csv('nyt.csv', index=False)"
   ]
  },
  {
   "cell_type": "code",
   "execution_count": 60,
   "id": "8d6c1a9a-42cc-4bdb-a8fb-23725121855b",
   "metadata": {},
   "outputs": [],
   "source": [
    "df_sizes = df[df['year'] == 2018].groupby('publication', as_index = False).count()"
   ]
  },
  {
   "cell_type": "code",
   "execution_count": 61,
   "id": "9eca23c9-b893-4f21-9585-422bdd31fa81",
   "metadata": {},
   "outputs": [],
   "source": [
    "df_sizes = df_sizes[(df_sizes['publication']==\"Fox News\") | \n",
    "                    (df_sizes['publication']==\"Reuters\") |\n",
    "                    (df_sizes['publication']==\"The Hill\") |\n",
    "                    (df_sizes['publication']==\"The New York Times\") |\n",
    "                    (df_sizes['publication']==\"CNN\")]  [['publication','article']]\n",
    "df_sizes = df_sizes.rename(columns={\"article\":\"num_articles\"})"
   ]
  },
  {
   "cell_type": "code",
   "execution_count": 62,
   "id": "23e005f2-c971-4fff-9ab2-32989449fdf5",
   "metadata": {},
   "outputs": [
    {
     "data": {
      "text/html": [
       "<div>\n",
       "<style scoped>\n",
       "    .dataframe tbody tr th:only-of-type {\n",
       "        vertical-align: middle;\n",
       "    }\n",
       "\n",
       "    .dataframe tbody tr th {\n",
       "        vertical-align: top;\n",
       "    }\n",
       "\n",
       "    .dataframe thead th {\n",
       "        text-align: right;\n",
       "    }\n",
       "</style>\n",
       "<table border=\"1\" class=\"dataframe\">\n",
       "  <thead>\n",
       "    <tr style=\"text-align: right;\">\n",
       "      <th></th>\n",
       "      <th>publication</th>\n",
       "      <th>num_articles</th>\n",
       "    </tr>\n",
       "  </thead>\n",
       "  <tbody>\n",
       "    <tr>\n",
       "      <th>4</th>\n",
       "      <td>CNN</td>\n",
       "      <td>29,262</td>\n",
       "    </tr>\n",
       "    <tr>\n",
       "      <th>6</th>\n",
       "      <td>Fox News</td>\n",
       "      <td>17,624</td>\n",
       "    </tr>\n",
       "    <tr>\n",
       "      <th>15</th>\n",
       "      <td>Reuters</td>\n",
       "      <td>159,142</td>\n",
       "    </tr>\n",
       "    <tr>\n",
       "      <th>18</th>\n",
       "      <td>The Hill</td>\n",
       "      <td>50,617</td>\n",
       "    </tr>\n",
       "    <tr>\n",
       "      <th>19</th>\n",
       "      <td>The New York Times</td>\n",
       "      <td>54,436</td>\n",
       "    </tr>\n",
       "  </tbody>\n",
       "</table>\n",
       "</div>"
      ],
      "text/plain": [
       "           publication num_articles\n",
       "4                  CNN       29,262\n",
       "6             Fox News       17,624\n",
       "15             Reuters      159,142\n",
       "18            The Hill       50,617\n",
       "19  The New York Times       54,436"
      ]
     },
     "metadata": {},
     "output_type": "display_data"
    }
   ],
   "source": [
    "df_sizes.loc[:, \"num_articles\"] = df_sizes[\"num_articles\"].map('{:,d}'.format)\n",
    "display(df_sizes)"
   ]
  },
  {
   "cell_type": "code",
   "execution_count": null,
   "id": "b6d9ac97-910e-47c2-b504-c7aac9808f68",
   "metadata": {},
   "outputs": [],
   "source": []
  }
 ],
 "metadata": {
  "kernelspec": {
   "display_name": "Python 3",
   "language": "python",
   "name": "python3"
  },
  "language_info": {
   "codemirror_mode": {
    "name": "ipython",
    "version": 3
   },
   "file_extension": ".py",
   "mimetype": "text/x-python",
   "name": "python",
   "nbconvert_exporter": "python",
   "pygments_lexer": "ipython3",
   "version": "3.9.5"
  }
 },
 "nbformat": 4,
 "nbformat_minor": 5
}
