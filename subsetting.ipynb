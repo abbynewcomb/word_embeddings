{
 "cells": [
  {
   "cell_type": "code",
   "execution_count": 1,
   "id": "583a3d96-e0d8-40ae-817a-5aacac76c21a",
   "metadata": {},
   "outputs": [],
   "source": [
    "%matplotlib inline\n",
    "\n",
    "import numpy as np\n",
    "import random\n",
    "import requests as rq\n",
    "import sys\n",
    "import io\n",
    "import pandas as pd\n",
    "from bs4 import BeautifulSoup\n",
    "from keras.callbacks import LambdaCallback\n",
    "from keras.models import Sequential\n",
    "from keras.layers import Dense, LSTM\n",
    "from tensorflow.keras.optimizers import RMSprop\n",
    "from collections import Counter\n",
    "from datetime import datetime\n",
    "import keras\n",
    "import keras.callbacks\n",
    "from keras.callbacks import TensorBoard\n",
    "%load_ext tensorboard"
   ]
  },
  {
   "cell_type": "code",
   "execution_count": null,
   "id": "9622787e-577a-4be1-b819-a460bdd6171e",
   "metadata": {},
   "outputs": [],
   "source": [
    "df = pd.read_csv ('/Users/abby/Documents/fa21-neural-networks/final_project/all-the-news-2-1.csv')"
   ]
  },
  {
   "cell_type": "code",
   "execution_count": null,
   "id": "efc9c6a9-3a06-4bcb-88ed-d877637872b7",
   "metadata": {},
   "outputs": [],
   "source": [
    "df.columns"
   ]
  },
  {
   "cell_type": "code",
   "execution_count": null,
   "id": "a8dbd32d-61cd-4e91-b688-12ce8aedd317",
   "metadata": {},
   "outputs": [],
   "source": [
    "df[df['publication']=='Fox News'].groupby('year').count()"
   ]
  },
  {
   "cell_type": "code",
   "execution_count": null,
   "id": "d618e312-c738-430f-a901-24d6b78e15e6",
   "metadata": {},
   "outputs": [],
   "source": [
    "df_fox_news = df[df['publication'] == \"Fox News\"]\n",
    "df_fox_news = df_fox_news[df_fox_news['year'] == 2018]\n",
    "df_fox_news = df_fox_news[['article']]\n",
    "df_fox_news.to_csv('fox_news.csv', index=False)"
   ]
  },
  {
   "cell_type": "code",
   "execution_count": null,
   "id": "8d6c1a9a-42cc-4bdb-a8fb-23725121855b",
   "metadata": {},
   "outputs": [],
   "source": [
    "df[df['year'] == 2018].groupby('publication').count()"
   ]
  },
  {
   "cell_type": "code",
   "execution_count": null,
   "id": "8ca9cb8a-7bae-4f18-9453-7ddabbc77aef",
   "metadata": {},
   "outputs": [],
   "source": [
    "df_cnn = df[df['publication'] == \"CNN\"]\n",
    "df_cnn = df_cnn[df_cnn['year'] == 2018]\n",
    "df_cnn = df_cnn[['article']]\n",
    "df_cnn.to_csv('cnn.csv', index=False)"
   ]
  },
  {
   "cell_type": "code",
   "execution_count": null,
   "id": "6e4b508f-859a-4718-96e6-85e1bfd5353c",
   "metadata": {},
   "outputs": [],
   "source": [
    "df_the_hill = df[df['publication'] == \"The Hill\"]\n",
    "df_the_hill = df_the_hill[df_the_hill['year'] == 2018]\n",
    "df_the_hill = df_the_hill[['article']]\n",
    "df_the_hill.to_csv('the_hill.csv', index=False)"
   ]
  },
  {
   "cell_type": "code",
   "execution_count": null,
   "id": "6f823a5e-d31a-4da2-9564-5175ca51134b",
   "metadata": {},
   "outputs": [],
   "source": [
    "df_reuters = df[df['publication'] == \"Reuters\"]\n",
    "df_reuters = df_reuters[df_reuters['year'] == 2018]\n",
    "df_reuters = df_reuters[['article']]\n",
    "df_reuters.to_csv('reuters.csv', index=False)"
   ]
  },
  {
   "cell_type": "code",
   "execution_count": null,
   "id": "042d107b-3891-4ec2-8abd-de5daf4bdf3c",
   "metadata": {},
   "outputs": [],
   "source": [
    "df_nyt = df[df['publication'] == \"The New York Times\"]\n",
    "df_nyt = df_nyt[df_nyt['year'] == 2018]\n",
    "df_nyt = df_nyt[['article']]\n",
    "df_nyt.to_csv('nyt.csv', index=False)"
   ]
  },
  {
   "cell_type": "code",
   "execution_count": null,
   "id": "9eca23c9-b893-4f21-9585-422bdd31fa81",
   "metadata": {},
   "outputs": [],
   "source": []
  }
 ],
 "metadata": {
  "kernelspec": {
   "display_name": "Python 3",
   "language": "python",
   "name": "python3"
  },
  "language_info": {
   "codemirror_mode": {
    "name": "ipython",
    "version": 3
   },
   "file_extension": ".py",
   "mimetype": "text/x-python",
   "name": "python",
   "nbconvert_exporter": "python",
   "pygments_lexer": "ipython3",
   "version": "3.9.5"
  }
 },
 "nbformat": 4,
 "nbformat_minor": 5
}
