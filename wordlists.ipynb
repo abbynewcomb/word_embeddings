{
 "cells": [
  {
   "cell_type": "code",
   "execution_count": 1,
   "id": "95dc15a9-87c0-4e39-b3d3-ed01e20fff8e",
   "metadata": {},
   "outputs": [],
   "source": [
    "import pandas as pd"
   ]
  },
  {
   "cell_type": "code",
   "execution_count": 2,
   "id": "3d2cf296-99bd-4d46-94e9-b86c0466561b",
   "metadata": {},
   "outputs": [],
   "source": [
    "df_politically_charged_words = ['metoo', 'socialism', 'America', 'gun', \n",
    "                                'freedom', 'environment', 'climate',\n",
    "                                'border', 'immigrant', 'immigration', 'abortion',\n",
    "                                'facebook', 'censor', 'insurance', 'atheist', 'atheism']"
   ]
  },
  {
   "cell_type": "code",
   "execution_count": null,
   "id": "d5913a0e-ea36-44ee-a363-1aca807ea1c4",
   "metadata": {},
   "outputs": [],
   "source": [
    "neutwords = ['disorganized', 'devious', 'impressionable', 'circumspect', 'impassive', \n",
    "             'aimless', 'effeminate', 'unfathomable', 'fickle', 'unprincipled', 'inoffensive', \n",
    "             'reactive', 'providential', 'resentful', 'bizarre', 'impractical',\n",
    "             'sarcastic', 'misguided', 'imitative', 'pedantic', 'venomous', 'erratic', 'insecure', \n",
    "             'resourceful', 'neurotic', 'forgiving', 'profligate', 'whimsical', 'assertive', \n",
    "             'incorruptible', 'individualistic', 'faithless', 'disconcerting', 'barbaric', \n",
    "             'hypnotic', 'vindictive', 'observant', 'dissolute', 'frightening', 'complacent', \n",
    "             'boisterous', 'pretentious', 'disobedient', 'tasteless', 'sedentary', \n",
    "             'sophisticated', 'regimental', 'mellow', 'deceitful', 'impulsive', 'playful', \n",
    "             'sociable', 'methodical', 'willful', 'idealistic', 'boyish', 'callous', 'pompous', \n",
    "             'unchanging', 'crafty', 'punctual', 'compassionate', 'intolerant', 'challenging', \n",
    "             'scornful', 'possessive', 'conceited', 'imprudent', 'dutiful', 'lovable', \n",
    "             'disloyal', 'dreamy', 'appreciative', 'forgetful', 'unrestrained', 'forceful', \n",
    "             'submissive', 'predatory', 'fanatical', 'illogical', 'tidy', 'aspiring', 'studious', \n",
    "             'adaptable', 'conciliatory', 'artful', 'thoughtless', 'deceptive', 'frugal', \n",
    "             'reflective', 'insulting', 'unreliable', 'stoic', 'hysterical', 'rustic', \n",
    "             'inhibited', 'outspoken', 'unhealthy', 'ascetic', 'skeptical', 'painstaking', \n",
    "             'contemplative', 'leisurely', 'sly', 'mannered', 'outrageous', 'lyrical', \n",
    "             'placid', 'cynical', 'irresponsible', 'vulnerable', 'arrogant', 'persuasive', \n",
    "             'perverse', 'steadfast', 'crisp', 'envious', 'naive', 'greedy', 'presumptuous', \n",
    "             'obnoxious', 'irritable', 'dishonest', 'discreet', 'sporting', 'hateful', \n",
    "             'ungrateful', 'frivolous', 'reactionary', 'skillful', 'cowardly', 'sordid', \n",
    "             'adventurous', 'dogmatic', 'intuitive', 'bland', 'indulgent', 'discontented', \n",
    "             'dominating', 'articulate', 'fanciful', 'discouraging', 'treacherous', \n",
    "             'repressed', 'moody', 'sensual', 'unfriendly', 'optimistic', 'clumsy', \n",
    "             'contemptible', 'focused', 'haughty', 'morbid', 'disorderly', 'considerate', \n",
    "             'humorous', 'preoccupied', 'airy', 'impersonal', 'cultured', 'trusting', \n",
    "             'respectful', 'scrupulous', 'scholarly', 'superstitious', 'tolerant', \n",
    "             'realistic', 'malicious', 'irrational', 'sane', 'colorless', 'masculine', \n",
    "             'witty', 'inert', 'prejudiced', 'fraudulent', 'blunt', 'childish', 'brittle', \n",
    "             'disciplined', 'responsive', 'courageous', 'bewildered', 'courteous', \n",
    "             'stubborn', 'aloof', 'sentimental', 'athletic', 'extravagant', 'brutal', \n",
    "             'manly', 'cooperative', 'unstable', 'youthful', 'timid', 'amiable', 'retiring', \n",
    "             'fiery', 'confidential', 'relaxed', 'imaginative', 'mystical', 'shrewd', \n",
    "             'conscientious', 'monstrous', 'grim', 'questioning', 'lazy', 'dynamic', \n",
    "             'gloomy', 'troublesome', 'abrupt', 'eloquent', 'dignified', 'hearty', 'gallant', \n",
    "             'benevolent', 'maternal', 'paternal', 'patriotic', 'aggressive', 'competitive', \n",
    "             'elegant', 'flexible', 'gracious', 'energetic', 'tough', 'contradictory', \n",
    "             'shy', 'careless', 'cautious', 'polished', 'sage', 'tense', 'caring', \n",
    "             'suspicious', 'sober', 'neat', 'transparent', 'disturbing', 'passionate', \n",
    "             'obedient', 'crazy', 'restrained', 'fearful', 'daring', 'prudent', 'demanding', \n",
    "             'impatient', 'cerebral', 'calculating', 'amusing', 'honorable', 'casual',\n",
    "             'sharing', 'selfish', 'ruined', 'spontaneous', 'admirable', 'conventional', \n",
    "             'cheerful', 'solitary', 'upright', 'stiff', 'enthusiastic', 'petty', 'dirty', \n",
    "             'subjective', 'heroic', 'stupid', 'modest', 'impressive', 'orderly', 'ambitious', \n",
    "             'protective', 'silly', 'alert', 'destructive', 'exciting', 'crude', 'ridiculous', \n",
    "             'subtle', 'mature', 'creative', 'coarse', 'passive', 'oppressed', 'accessible', \n",
    "             'charming', 'clever', 'decent', 'miserable', 'superficial', 'shallow', 'stern', \n",
    "             'winning', 'balanced', 'emotional', 'rigid', 'invisible', 'desperate', 'cruel', \n",
    "             'romantic', 'agreeable', 'hurried', 'sympathetic', 'solemn', 'systematic', \n",
    "             'vague', 'peaceful', 'humble', 'dull', 'expedient', 'loyal', 'decisive', \n",
    "             'arbitrary', 'earnest', 'confident', 'conservative', 'foolish', 'moderate', \n",
    "             'helpful', 'delicate', 'gentle', 'dedicated', 'hostile', 'generous', 'reliable', \n",
    "             'dramatic', 'precise', 'calm', 'healthy', 'attractive', 'artificial', \n",
    "             'progressive', 'odd', 'confused', 'rational', 'brilliant', 'intense', \n",
    "             'genuine', 'mistaken', 'driving', 'stable', 'objective', 'sensitive', \n",
    "             'neutral', 'strict', 'angry', 'profound', 'smooth', 'ignorant', 'thorough', \n",
    "             'logical', 'intelligent', 'extraordinary', 'experimental', 'steady', \n",
    "             'formal', 'faithful', 'curious', 'reserved', 'honest', 'busy', 'educated', \n",
    "             'liberal', 'friendly', 'efficient', 'sweet', 'surprising', 'mechanical', \n",
    "             'clean', 'critical', 'criminal', 'soft', 'proud', 'quiet', 'weak', 'anxious', \n",
    "             'solid', 'complex', 'grand', 'warm', 'slow', 'false', 'extreme', 'narrow', \n",
    "             'dependent', 'wise', 'organized', 'pure', 'directed', 'dry', 'obvious', 'popular', \n",
    "             'capable', 'secure', 'active', 'independent', 'ordinary', 'fixed', 'practical', \n",
    "             'serious', 'fair', 'understanding', 'constant', 'cold', 'responsible', 'deep', \n",
    "             'religious', 'private', 'simple', 'physical', 'original', 'working', 'strong', \n",
    "             'modern', 'determined', 'open', 'political', 'difficult', 'knowledge', 'kind']"
   ]
  }
 ],
 "metadata": {
  "kernelspec": {
   "display_name": "Python 3",
   "language": "python",
   "name": "python3"
  },
  "language_info": {
   "codemirror_mode": {
    "name": "ipython",
    "version": 3
   },
   "file_extension": ".py",
   "mimetype": "text/x-python",
   "name": "python",
   "nbconvert_exporter": "python",
   "pygments_lexer": "ipython3",
   "version": "3.8.5"
  }
 },
 "nbformat": 4,
 "nbformat_minor": 5
}
