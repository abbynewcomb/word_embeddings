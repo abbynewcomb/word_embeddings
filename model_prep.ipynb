{
 "cells": [
  {
   "cell_type": "code",
   "execution_count": 6,
   "metadata": {
    "colab": {
     "base_uri": "https://localhost:8080/"
    },
    "id": "m7WpQV2WR-7z",
    "outputId": "06521f71-b4ad-4c19-fdd9-d58b8524362f"
   },
   "outputs": [
    {
     "name": "stderr",
     "output_type": "stream",
     "text": [
      "[nltk_data] Downloading package punkt to /Users/abby/nltk_data...\n",
      "[nltk_data]   Package punkt is already up-to-date!\n",
      "[nltk_data] Downloading package stopwords to /Users/abby/nltk_data...\n",
      "[nltk_data]   Package stopwords is already up-to-date!\n",
      "[nltk_data] Downloading package wordnet to /Users/abby/nltk_data...\n",
      "[nltk_data]   Package wordnet is already up-to-date!\n"
     ]
    }
   ],
   "source": [
    "%matplotlib inline\n",
    "\n",
    "import numpy as np\n",
    "import random\n",
    "import requests as rq\n",
    "import sys\n",
    "import io\n",
    "import re\n",
    "import pandas as pd\n",
    "from gensim import models\n",
    "from nltk.tokenize import sent_tokenize\n",
    "from nltk.stem import WordNetLemmatizer\n",
    "from gensim.models import Word2Vec\n",
    "import nltk\n",
    "nltk.download('punkt')\n",
    "nltk.download('stopwords')\n",
    "nltk.download('wordnet')\n",
    "stop_words = nltk.corpus.stopwords.words('english')\n",
    "lemmatizer = WordNetLemmatizer()"
   ]
  },
  {
   "cell_type": "code",
   "execution_count": 7,
   "metadata": {
    "id": "pTSCvVYvUlxM"
   },
   "outputs": [],
   "source": [
    "# Loading the dataset\n",
    "df_fox = pd.read_csv(\"./datasets/fox_news.csv\")\n",
    "df_reuters = pd.read_csv(\"./datasets//reuters.csv\")\n",
    "df_nyt = pd.read_csv(\"./datasets/nyt.csv\")\n",
    "df_the_hill = pd.read_csv(\"./datasets/the_hill.csv\")\n",
    "df_cnn = pd.read_csv(\"./datasets/cnn.csv\")"
   ]
  },
  {
   "cell_type": "code",
   "execution_count": 8,
   "metadata": {
    "colab": {
     "base_uri": "https://localhost:8080/",
     "height": 417
    },
    "id": "uuiXFUdCWG19",
    "outputId": "e04a0b9b-f4e0-40f0-a545-ef48ef637926"
   },
   "outputs": [
    {
     "data": {
      "text/html": [
       "<div>\n",
       "<style scoped>\n",
       "    .dataframe tbody tr th:only-of-type {\n",
       "        vertical-align: middle;\n",
       "    }\n",
       "\n",
       "    .dataframe tbody tr th {\n",
       "        vertical-align: top;\n",
       "    }\n",
       "\n",
       "    .dataframe thead th {\n",
       "        text-align: right;\n",
       "    }\n",
       "</style>\n",
       "<table border=\"1\" class=\"dataframe\">\n",
       "  <thead>\n",
       "    <tr style=\"text-align: right;\">\n",
       "      <th></th>\n",
       "      <th>article</th>\n",
       "    </tr>\n",
       "  </thead>\n",
       "  <tbody>\n",
       "    <tr>\n",
       "      <th>0</th>\n",
       "      <td>You have 300 words left.</td>\n",
       "    </tr>\n",
       "    <tr>\n",
       "      <th>1</th>\n",
       "      <td>“Sancho: An Act of Remembrance,” which was ori...</td>\n",
       "    </tr>\n",
       "    <tr>\n",
       "      <th>2</th>\n",
       "      <td>Deconstructing the party of the year, includin...</td>\n",
       "    </tr>\n",
       "    <tr>\n",
       "      <th>3</th>\n",
       "      <td>11 Photos View Slide Show › Whether you’re her...</td>\n",
       "    </tr>\n",
       "    <tr>\n",
       "      <th>4</th>\n",
       "      <td>Sometimes plain old pasta with red sauce is ju...</td>\n",
       "    </tr>\n",
       "    <tr>\n",
       "      <th>...</th>\n",
       "      <td>...</td>\n",
       "    </tr>\n",
       "    <tr>\n",
       "      <th>54431</th>\n",
       "      <td>FLORHAM PARK, N.J. — A day after the Jets fire...</td>\n",
       "    </tr>\n",
       "    <tr>\n",
       "      <th>54432</th>\n",
       "      <td>Warren Wells, a former wide receiver who becam...</td>\n",
       "    </tr>\n",
       "    <tr>\n",
       "      <th>54433</th>\n",
       "      <td>The Christian right doesn’t like the president...</td>\n",
       "    </tr>\n",
       "    <tr>\n",
       "      <th>54434</th>\n",
       "      <td>AUG. 29, 2018\\n \\nAdd an event to your calenda...</td>\n",
       "    </tr>\n",
       "    <tr>\n",
       "      <th>54435</th>\n",
       "      <td>“We don’t say a dish is spicy — we say it has ...</td>\n",
       "    </tr>\n",
       "  </tbody>\n",
       "</table>\n",
       "<p>54385 rows × 1 columns</p>\n",
       "</div>"
      ],
      "text/plain": [
       "                                                 article\n",
       "0                               You have 300 words left.\n",
       "1      “Sancho: An Act of Remembrance,” which was ori...\n",
       "2      Deconstructing the party of the year, includin...\n",
       "3      11 Photos View Slide Show › Whether you’re her...\n",
       "4      Sometimes plain old pasta with red sauce is ju...\n",
       "...                                                  ...\n",
       "54431  FLORHAM PARK, N.J. — A day after the Jets fire...\n",
       "54432  Warren Wells, a former wide receiver who becam...\n",
       "54433  The Christian right doesn’t like the president...\n",
       "54434  AUG. 29, 2018\\n \\nAdd an event to your calenda...\n",
       "54435  “We don’t say a dish is spicy — we say it has ...\n",
       "\n",
       "[54385 rows x 1 columns]"
      ]
     },
     "execution_count": 8,
     "metadata": {},
     "output_type": "execute_result"
    }
   ],
   "source": [
    "#preprocess data\n",
    "\n",
    "# dropping NAs\n",
    "df_fox.dropna(inplace=True)\n",
    "df_fox.reset_index(inplace=True,drop=True)\n",
    "\n",
    "df_nyt.dropna(inplace=True)\n",
    "df_nyt.reset_index(inplace=True,drop=True)\n",
    "\n",
    "df_reuters.dropna(inplace=True)\n",
    "df_reuters.reset_index(inplace=True,drop=True)\n",
    "\n",
    "df_the_hill.dropna(inplace=True)\n",
    "df_the_hill.reset_index(inplace=True,drop=True)\n",
    "\n",
    "df_cnn.dropna(inplace=True)\n",
    "df_cnn.reset_index(inplace=True,drop=True)\n",
    "\n",
    "# dropping duplicate values\n",
    "df_fox.drop_duplicates()\n",
    "df_cnn.drop_duplicates()\n",
    "df_the_hill.drop_duplicates()\n",
    "df_reuters.drop_duplicates()\n",
    "df_nyt.drop_duplicates()"
   ]
  },
  {
   "cell_type": "code",
   "execution_count": 9,
   "metadata": {
    "id": "KvGb5SAUhhBx"
   },
   "outputs": [],
   "source": [
    "def remove_link_punc(string):\n",
    "    # removing links\n",
    "    temp_string = re.sub('http[s]?://(?:[a-zA-Z]|[0–9]|[$-_@.&+]|(?:%[0–9a-fA-F][0–9a-fA-F]))+', ' ', string)\n",
    "    \n",
    "    # removing all everything except a-z english letters\n",
    "    regex = re.compile('[^a-zA-Z]')\n",
    "    temp_string = regex.sub(' ', temp_string)\n",
    "    \n",
    "    # removing extra spaces\n",
    "    clean_string = re.sub(' +', ' ', temp_string).lower()\n",
    "    return clean_string\n",
    "\n",
    "\n",
    "def data_cleaning(content):\n",
    "    sentences = []\n",
    "    for idx in range(len(content)):\n",
    "        if content[idx] !=\"\":\n",
    "            # Sentence tokenization using NLTK library\n",
    "            for each_sent in sent_tokenize(str(content[idx])):\n",
    "                if each_sent != \"\":\n",
    "                    temp_sent = []\n",
    "\n",
    "                # Removing link and punctuation\n",
    "                each_sent = remove_link_punc(each_sent.lower())\n",
    "\n",
    "                # Removing stopwords and applying lemmatization\n",
    "                for each_word in each_sent.split():\n",
    "                    if each_word not in stop_words and len(each_word)>= 3:\n",
    "                        temp_sent.append(lemmatizer.lemmatize(each_word))\n",
    "\n",
    "                # Only taking word list if length is greater than or equal to 5\n",
    "                if len(temp_sent) >= 5:\n",
    "                    sentences.append(temp_sent)\n",
    "    return sentences"
   ]
  },
  {
   "cell_type": "code",
   "execution_count": 10,
   "metadata": {
    "id": "ZUe9thHViDiI"
   },
   "outputs": [],
   "source": [
    "fox_corpus = data_cleaning(df_fox.article)\n",
    "reuters_corpus = data_cleaning(df_reuters.article)\n",
    "nyt_corpus = data_cleaning(df_nyt.article)\n",
    "cnn_corpus = data_cleaning(df_cnn.article)\n",
    "the_hill_corpus = data_cleaning(df_the_hill.article)"
   ]
  },
  {
   "cell_type": "code",
   "execution_count": 12,
   "metadata": {
    "id": "wnUIkJkDVO32"
   },
   "outputs": [],
   "source": [
    "#training word2vec model with our data\n",
    "\n",
    "model = Word2Vec(sentences=fox_corpus, window=4, min_count=5, workers=4, sg=1)"
   ]
  },
  {
   "cell_type": "code",
   "execution_count": 19,
   "metadata": {},
   "outputs": [],
   "source": [
    "model_cnn = Word2Vec(sentences=cnn_corpus, window=4, min_count=5, workers=4, sg=1)"
   ]
  },
  {
   "cell_type": "code",
   "execution_count": 21,
   "metadata": {},
   "outputs": [],
   "source": [
    "model_the_hill = Word2Vec(sentences=the_hill_corpus, window=4, min_count=5, workers=4, sg=1)"
   ]
  },
  {
   "cell_type": "code",
   "execution_count": 22,
   "metadata": {},
   "outputs": [],
   "source": [
    "model_reuters = Word2Vec(sentences=reuters_corpus, window=4, min_count=5, workers=4, sg=1)"
   ]
  },
  {
   "cell_type": "code",
   "execution_count": 23,
   "metadata": {},
   "outputs": [],
   "source": [
    "model_nyt = Word2Vec(sentences=nyt_corpus, window=4, min_count=5, workers=4, sg=1)"
   ]
  },
  {
   "cell_type": "code",
   "execution_count": 24,
   "metadata": {},
   "outputs": [],
   "source": [
    "model.save('./models/fox.model')\n",
    "model_cnn.save('./models/cnn.model')\n",
    "model_the_hill.save('./models/the_hill.model')\n",
    "model_reuters.save('./models/reuters.model')\n",
    "model_nyt.save('./models/nyt.model')"
   ]
  }
 ],
 "metadata": {
  "colab": {
   "collapsed_sections": [],
   "name": "Model_Prep.ipynb",
   "provenance": []
  },
  "kernelspec": {
   "display_name": "Python 3",
   "language": "python",
   "name": "python3"
  },
  "language_info": {
   "codemirror_mode": {
    "name": "ipython",
    "version": 3
   },
   "file_extension": ".py",
   "mimetype": "text/x-python",
   "name": "python",
   "nbconvert_exporter": "python",
   "pygments_lexer": "ipython3",
   "version": "3.9.5"
  }
 },
 "nbformat": 4,
 "nbformat_minor": 4
}
