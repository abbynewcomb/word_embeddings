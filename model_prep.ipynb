{
  "nbformat": 4,
  "nbformat_minor": 0,
  "metadata": {
    "colab": {
      "name": "Model_Prep.ipynb",
      "provenance": [],
      "collapsed_sections": []
    },
    "kernelspec": {
      "name": "python3",
      "display_name": "Python 3"
    },
    "language_info": {
      "name": "python"
    }
  },
  "cells": [
    {
      "cell_type": "code",
      "metadata": {
        "colab": {
          "base_uri": "https://localhost:8080/"
        },
        "id": "m7WpQV2WR-7z",
        "outputId": "06521f71-b4ad-4c19-fdd9-d58b8524362f"
      },
      "source": [
        "%matplotlib inline\n",
        "\n",
        "import numpy as np\n",
        "import random\n",
        "import requests as rq\n",
        "import sys\n",
        "import io\n",
        "import re\n",
        "import pandas as pd\n",
        "from gensim import models\n",
        "from google.colab import files\n",
        "from nltk.tokenize import sent_tokenize\n",
        "from nltk.stem import WordNetLemmatizer\n",
        "from gensim.models import Word2Vec\n",
        "import nltk\n",
        "nltk.download('punkt')\n",
        "nltk.download('stopwords')\n",
        "nltk.download('wordnet')\n",
        "stop_words = nltk.corpus.stopwords.words('english')\n",
        "lemmatizer = WordNetLemmatizer()\n",
        "\n"
      ],
      "execution_count": null,
      "outputs": [
        {
          "output_type": "stream",
          "name": "stdout",
          "text": [
            "[nltk_data] Downloading package punkt to /root/nltk_data...\n",
            "[nltk_data]   Unzipping tokenizers/punkt.zip.\n",
            "[nltk_data] Downloading package stopwords to /root/nltk_data...\n",
            "[nltk_data]   Unzipping corpora/stopwords.zip.\n",
            "[nltk_data] Downloading package wordnet to /root/nltk_data...\n",
            "[nltk_data]   Unzipping corpora/wordnet.zip.\n"
          ]
        }
      ]
    },
    {
      "cell_type": "code",
      "metadata": {
        "colab": {
          "resources": {
            "http://localhost:8080/nbextensions/google.colab/files.js": {
              "data": "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",
              "ok": true,
              "headers": [
                [
                  "content-type",
                  "application/javascript"
                ]
              ],
              "status": 200,
              "status_text": ""
            }
          },
          "base_uri": "https://localhost:8080/",
          "height": 73
        },
        "id": "HY5Xc6VSSRX8",
        "outputId": "5554bb78-0ee5-45be-e6b7-668164750f4a"
      },
      "source": [
        "uploaded = files.upload()\n"
      ],
      "execution_count": null,
      "outputs": [
        {
          "output_type": "display_data",
          "data": {
            "text/html": [
              "\n",
              "     <input type=\"file\" id=\"files-1c68e0b3-0ec5-4881-b46a-fa1194fec057\" name=\"files[]\" multiple disabled\n",
              "        style=\"border:none\" />\n",
              "     <output id=\"result-1c68e0b3-0ec5-4881-b46a-fa1194fec057\">\n",
              "      Upload widget is only available when the cell has been executed in the\n",
              "      current browser session. Please rerun this cell to enable.\n",
              "      </output>\n",
              "      <script src=\"/nbextensions/google.colab/files.js\"></script> "
            ],
            "text/plain": [
              "<IPython.core.display.HTML object>"
            ]
          },
          "metadata": {}
        },
        {
          "output_type": "stream",
          "name": "stdout",
          "text": [
            "Saving fox_news.csv to fox_news.csv\n"
          ]
        }
      ]
    },
    {
      "cell_type": "code",
      "metadata": {
        "id": "pTSCvVYvUlxM"
      },
      "source": [
        "# Loading the dataset\n",
        "df_fox = pd.read_csv(io.BytesIO(uploaded['fox_news.csv']))"
      ],
      "execution_count": null,
      "outputs": []
    },
    {
      "cell_type": "code",
      "metadata": {
        "colab": {
          "base_uri": "https://localhost:8080/",
          "height": 417
        },
        "id": "uuiXFUdCWG19",
        "outputId": "e04a0b9b-f4e0-40f0-a545-ef48ef637926"
      },
      "source": [
        "#preprocess data\n",
        "\n",
        "# dropping NAs\n",
        "df_fox.dropna(inplace=True)\n",
        "df_fox.reset_index(inplace=True,drop=True)\n",
        "\n",
        "# dropping duplicate values\n",
        "df_fox.drop_duplicates()"
      ],
      "execution_count": null,
      "outputs": [
        {
          "output_type": "execute_result",
          "data": {
            "text/html": [
              "<div>\n",
              "<style scoped>\n",
              "    .dataframe tbody tr th:only-of-type {\n",
              "        vertical-align: middle;\n",
              "    }\n",
              "\n",
              "    .dataframe tbody tr th {\n",
              "        vertical-align: top;\n",
              "    }\n",
              "\n",
              "    .dataframe thead th {\n",
              "        text-align: right;\n",
              "    }\n",
              "</style>\n",
              "<table border=\"1\" class=\"dataframe\">\n",
              "  <thead>\n",
              "    <tr style=\"text-align: right;\">\n",
              "      <th></th>\n",
              "      <th>article</th>\n",
              "    </tr>\n",
              "  </thead>\n",
              "  <tbody>\n",
              "    <tr>\n",
              "      <th>0</th>\n",
              "      <td>Consumer Reports has no financial relationship...</td>\n",
              "    </tr>\n",
              "    <tr>\n",
              "      <th>1</th>\n",
              "      <td>\\n          Parma Justice Center (pictured) si...</td>\n",
              "    </tr>\n",
              "    <tr>\n",
              "      <th>2</th>\n",
              "      <td>HUNTSVILLE, Texas –  The lure of drugs and sex...</td>\n",
              "    </tr>\n",
              "    <tr>\n",
              "      <th>3</th>\n",
              "      <td>\\n          November 19, 2015.  Will Smith pos...</td>\n",
              "    </tr>\n",
              "    <tr>\n",
              "      <th>4</th>\n",
              "      <td>\\n          A video has gone viral of a teenag...</td>\n",
              "    </tr>\n",
              "    <tr>\n",
              "      <th>...</th>\n",
              "      <td>...</td>\n",
              "    </tr>\n",
              "    <tr>\n",
              "      <th>17619</th>\n",
              "      <td>close Video House Rules Committee to meet on r...</td>\n",
              "    </tr>\n",
              "    <tr>\n",
              "      <th>17620</th>\n",
              "      <td>\\n          FBI agents searched a Georgia land...</td>\n",
              "    </tr>\n",
              "    <tr>\n",
              "      <th>17621</th>\n",
              "      <td>close Video Kim Jong Un’s most bizarre claims ...</td>\n",
              "    </tr>\n",
              "    <tr>\n",
              "      <th>17622</th>\n",
              "      <td>close Video Moon golf: How Astronaut Alan Shep...</td>\n",
              "    </tr>\n",
              "    <tr>\n",
              "      <th>17623</th>\n",
              "      <td>\\n \\n \\n City, State \\n Station \\n Time \\n \\...</td>\n",
              "    </tr>\n",
              "  </tbody>\n",
              "</table>\n",
              "<p>17617 rows × 1 columns</p>\n",
              "</div>"
            ],
            "text/plain": [
              "                                                 article\n",
              "0      Consumer Reports has no financial relationship...\n",
              "1      \\n          Parma Justice Center (pictured) si...\n",
              "2      HUNTSVILLE, Texas –  The lure of drugs and sex...\n",
              "3      \\n          November 19, 2015.  Will Smith pos...\n",
              "4      \\n          A video has gone viral of a teenag...\n",
              "...                                                  ...\n",
              "17619  close Video House Rules Committee to meet on r...\n",
              "17620  \\n          FBI agents searched a Georgia land...\n",
              "17621  close Video Kim Jong Un’s most bizarre claims ...\n",
              "17622  close Video Moon golf: How Astronaut Alan Shep...\n",
              "17623    \\n \\n \\n City, State \\n Station \\n Time \\n \\...\n",
              "\n",
              "[17617 rows x 1 columns]"
            ]
          },
          "metadata": {},
          "execution_count": 5
        }
      ]
    },
    {
      "cell_type": "code",
      "metadata": {
        "id": "KvGb5SAUhhBx"
      },
      "source": [
        "def remove_link_punc(string):\n",
        "    # removing links\n",
        "    temp_string = re.sub('http[s]?://(?:[a-zA-Z]|[0–9]|[$-_@.&+]|(?:%[0–9a-fA-F][0–9a-fA-F]))+', ' ', string)\n",
        "    \n",
        "    # removing all everything except a-z english letters\n",
        "    regex = re.compile('[^a-zA-Z]')\n",
        "    temp_string = regex.sub(' ', temp_string)\n",
        "    \n",
        "    # removing extra spaces\n",
        "    clean_string = re.sub(' +', ' ', temp_string).lower()\n",
        "    return clean_string\n",
        "\n",
        "\n",
        "def data_cleaning(content):\n",
        "    sentences = []\n",
        "    for idx in range(len(content)):\n",
        "        if content[idx] !=\"\":\n",
        "            # Sentence tokenization using NLTK library\n",
        "            for each_sent in sent_tokenize(str(content[idx])):\n",
        "                if each_sent != \"\":\n",
        "                    temp_sent = []\n",
        "\n",
        "                # Removing link and punctuation\n",
        "                each_sent = remove_link_punc(each_sent.lower())\n",
        "\n",
        "                # Removing stopwords and applying lemmatization\n",
        "                for each_word in each_sent.split():\n",
        "                    if each_word not in stop_words and len(each_word)>= 3:\n",
        "                        temp_sent.append(lemmatizer.lemmatize(each_word))\n",
        "\n",
        "                # Only taking word list if length is greater than or equal to 5\n",
        "                if len(temp_sent) >= 5:\n",
        "                    sentences.append(temp_sent)\n",
        "    return sentences"
      ],
      "execution_count": null,
      "outputs": []
    },
    {
      "cell_type": "code",
      "metadata": {
        "id": "ZUe9thHViDiI"
      },
      "source": [
        "fox_corpus = data_cleaning(df_fox.article)"
      ],
      "execution_count": null,
      "outputs": []
    },
    {
      "cell_type": "code",
      "metadata": {
        "colab": {
          "base_uri": "https://localhost:8080/"
        },
        "id": "gwutWvRwhm4j",
        "outputId": "9efdc3f5-8870-4cc3-8090-f0ef445020d3"
      },
      "source": [
        "len(fox_corpus)"
      ],
      "execution_count": null,
      "outputs": [
        {
          "output_type": "execute_result",
          "data": {
            "text/plain": [
              "438668"
            ]
          },
          "metadata": {},
          "execution_count": 8
        }
      ]
    },
    {
      "cell_type": "code",
      "metadata": {
        "colab": {
          "base_uri": "https://localhost:8080/"
        },
        "id": "TV6xpz7FhoSD",
        "outputId": "bf91ae90-52ef-4c9a-a53b-9d8fde4b9c18"
      },
      "source": [
        "fox_corpus[235]"
      ],
      "execution_count": null,
      "outputs": [
        {
          "output_type": "execute_result",
          "data": {
            "text/plain": [
              "['dot',\n",
              " 'posted',\n",
              " 'photo',\n",
              " 'smoke',\n",
              " 'crack',\n",
              " 'coming',\n",
              " 'roadway',\n",
              " 'behind',\n",
              " 'barricade']"
            ]
          },
          "metadata": {},
          "execution_count": 9
        }
      ]
    },
    {
      "cell_type": "code",
      "metadata": {
        "id": "wnUIkJkDVO32"
      },
      "source": [
        "#training word2vec model with oue data\n",
        "\n",
        "model = Word2Vec(sentences=fox_corpus, size=200, window=4, min_count=1, workers=4)"
      ],
      "execution_count": null,
      "outputs": []
    },
    {
      "cell_type": "code",
      "metadata": {
        "colab": {
          "base_uri": "https://localhost:8080/"
        },
        "id": "ZPUkhlKHjtP0",
        "outputId": "104e1885-917c-46d1-ae84-30ef648c44d5"
      },
      "source": [
        "model.wv.similar_by_word(\"gun\")"
      ],
      "execution_count": null,
      "outputs": [
        {
          "output_type": "execute_result",
          "data": {
            "text/plain": [
              "[('handgun', 0.644544243812561),\n",
              " ('firearm', 0.6086054444313049),\n",
              " ('pistol', 0.5912555456161499),\n",
              " ('rifle', 0.5761883854866028),\n",
              " ('shotgun', 0.5520564317703247),\n",
              " ('caliber', 0.5139201879501343),\n",
              " ('stun', 0.5013119578361511),\n",
              " ('bullet', 0.4948554039001465),\n",
              " ('knife', 0.48430222272872925),\n",
              " ('vehicle', 0.4762563109397888)]"
            ]
          },
          "metadata": {},
          "execution_count": 11
        }
      ]
    },
    {
      "cell_type": "markdown",
      "metadata": {
        "id": "f0ls-Ov7mk8j"
      },
      "source": [
        "Checking the distances between word and adjective"
      ]
    },
    {
      "cell_type": "code",
      "metadata": {
        "id": "aVtxa-YW9tg6"
      },
      "source": [
        "\n",
        "\n",
        "adjectives = ['disorganized', 'devious', 'impressionable', 'circumspect', 'impassive', \n",
        "             'aimless', 'effeminate', 'unfathomable', 'fickle', 'unprincipled', 'inoffensive', \n",
        "             'reactive', 'providential', 'resentful', 'bizarre', 'impractical',\n",
        "             'sarcastic', 'misguided', 'imitative', 'pedantic', 'venomous', 'erratic', 'insecure', \n",
        "             'resourceful', 'neurotic', 'forgiving', 'profligate', 'whimsical', 'assertive', \n",
        "             'incorruptible', 'individualistic', 'faithless', 'disconcerting', 'barbaric', \n",
        "             'hypnotic', 'vindictive', 'observant', 'dissolute', 'frightening', 'complacent', \n",
        "             'boisterous', 'pretentious', 'disobedient', 'tasteless', 'sedentary', \n",
        "             'sophisticated', 'regimental', 'mellow', 'deceitful', 'impulsive', 'playful', \n",
        "             'sociable', 'methodical', 'willful', 'idealistic', 'boyish', 'callous', 'pompous', \n",
        "             'unchanging', 'crafty', 'punctual', 'compassionate', 'intolerant', 'challenging', \n",
        "             'scornful', 'possessive', 'conceited', 'imprudent', 'dutiful', 'lovable', \n",
        "             'disloyal', 'dreamy', 'appreciative', 'forgetful', 'unrestrained', 'forceful', \n",
        "             'submissive', 'predatory', 'fanatical', 'illogical', 'tidy', 'aspiring', 'studious', \n",
        "             'adaptable', 'conciliatory', 'artful', 'thoughtless', 'deceptive', 'frugal', \n",
        "             'reflective', 'insulting', 'unreliable', 'stoic', 'hysterical', 'rustic', \n",
        "             'inhibited', 'outspoken', 'unhealthy', 'ascetic', 'skeptical', 'painstaking', \n",
        "             'contemplative', 'leisurely', 'sly', 'mannered', 'outrageous', 'lyrical', \n",
        "             'placid', 'cynical', 'irresponsible', 'vulnerable', 'arrogant', 'persuasive', \n",
        "             'perverse', 'steadfast', 'crisp', 'envious', 'naive', 'greedy', 'presumptuous', \n",
        "             'obnoxious', 'irritable', 'dishonest', 'discreet', 'sporting', 'hateful', \n",
        "             'ungrateful', 'frivolous', 'reactionary', 'skillful', 'cowardly', 'sordid', \n",
        "             'adventurous', 'dogmatic', 'intuitive', 'bland', 'indulgent', 'discontented', \n",
        "             'dominating', 'articulate', 'fanciful', 'discouraging', 'treacherous', \n",
        "             'repressed', 'moody', 'sensual', 'unfriendly', 'optimistic', 'clumsy', \n",
        "             'contemptible', 'focused', 'haughty', 'morbid', 'disorderly', 'considerate', \n",
        "             'humorous', 'preoccupied', 'airy', 'impersonal', 'cultured', 'trusting', \n",
        "             'respectful', 'scrupulous', 'scholarly', 'superstitious', 'tolerant', \n",
        "             'realistic', 'malicious', 'irrational', 'sane', 'colorless', 'masculine', \n",
        "             'witty', 'inert', 'prejudiced', 'fraudulent', 'blunt', 'childish', 'brittle', \n",
        "             'disciplined', 'responsive', 'courageous', 'bewildered', 'courteous', \n",
        "             'stubborn', 'aloof', 'sentimental', 'athletic', 'extravagant', 'brutal', \n",
        "             'manly', 'cooperative', 'unstable', 'youthful', 'timid', 'amiable', 'retiring', \n",
        "             'fiery', 'confidential', 'relaxed', 'imaginative', 'mystical', 'shrewd', \n",
        "             'conscientious', 'monstrous', 'grim', 'questioning', 'lazy', 'dynamic', \n",
        "             'gloomy', 'troublesome', 'abrupt', 'eloquent', 'dignified', 'hearty', 'gallant', \n",
        "             'benevolent', 'maternal', 'paternal', 'patriotic', 'aggressive', 'competitive', \n",
        "             'elegant', 'flexible', 'gracious', 'energetic', 'tough', 'contradictory', \n",
        "             'shy', 'careless', 'cautious', 'polished', 'sage', 'tense', 'caring', \n",
        "             'suspicious', 'sober', 'neat', 'transparent', 'disturbing', 'passionate', \n",
        "             'obedient', 'crazy', 'restrained', 'fearful', 'daring', 'prudent', 'demanding', \n",
        "             'impatient', 'cerebral', 'calculating', 'amusing', 'honorable', 'casual',\n",
        "             'sharing', 'selfish', 'ruined', 'spontaneous', 'admirable', 'conventional', \n",
        "             'cheerful', 'solitary', 'upright', 'stiff', 'enthusiastic', 'petty', 'dirty', \n",
        "             'subjective', 'heroic', 'stupid', 'modest', 'impressive', 'orderly', 'ambitious', \n",
        "             'protective', 'silly', 'alert', 'destructive', 'exciting', 'crude', 'ridiculous', \n",
        "             'subtle', 'mature', 'creative', 'coarse', 'passive', 'oppressed', 'accessible', \n",
        "             'charming', 'clever', 'decent', 'miserable', 'superficial', 'shallow', 'stern', \n",
        "             'winning', 'balanced', 'emotional', 'rigid', 'invisible', 'desperate', 'cruel', \n",
        "             'romantic', 'agreeable', 'hurried', 'sympathetic', 'solemn', 'systematic', \n",
        "             'vague', 'peaceful', 'humble', 'dull', 'expedient', 'loyal', 'decisive', \n",
        "             'arbitrary', 'earnest', 'confident', 'conservative', 'foolish', 'moderate', \n",
        "             'helpful', 'delicate', 'gentle', 'dedicated', 'hostile', 'generous', 'reliable', \n",
        "             'dramatic', 'precise', 'calm', 'healthy', 'attractive', 'artificial', \n",
        "             'progressive', 'odd', 'confused', 'rational', 'brilliant', 'intense', \n",
        "             'genuine', 'mistaken', 'driving', 'stable', 'objective', 'sensitive', \n",
        "             'neutral', 'strict', 'angry', 'profound', 'smooth', 'ignorant', 'thorough', \n",
        "             'logical', 'intelligent', 'extraordinary', 'experimental', 'steady', \n",
        "             'formal', 'faithful', 'curious', 'reserved', 'honest', 'busy', 'educated', \n",
        "             'liberal', 'friendly', 'efficient', 'sweet', 'surprising', 'mechanical', \n",
        "             'clean', 'critical', 'criminal', 'soft', 'proud', 'quiet', 'weak', 'anxious', \n",
        "             'solid', 'complex', 'grand', 'warm', 'slow', 'false', 'extreme', 'narrow', \n",
        "             'dependent', 'wise', 'organized', 'pure', 'directed', 'dry', 'obvious', 'popular', \n",
        "             'capable', 'secure', 'active', 'independent', 'ordinary', 'fixed', 'practical', \n",
        "             'serious', 'fair', 'understanding', 'constant', 'cold', 'responsible', 'deep', \n",
        "             'religious', 'private', 'simple', 'physical', 'original', 'working', 'strong', \n",
        "             'modern', 'determined', 'open', 'political', 'difficult', 'knowledge', 'kind']\n",
        "\n"
      ],
      "execution_count": null,
      "outputs": []
    },
    {
      "cell_type": "code",
      "metadata": {
        "id": "R0zwzzLJE15h"
      },
      "source": [
        "testing_words = [\"gun\", \"metoo\", \"america\", \"tax\", \"abortion\", \"democrat\", \"republican\", \"nra\", \"trump\", \"biden\", \"china\", \"gay\", \"lesbian\"]"
      ],
      "execution_count": null,
      "outputs": []
    },
    {
      "cell_type": "code",
      "metadata": {
        "colab": {
          "base_uri": "https://localhost:8080/"
        },
        "id": "mqDduKH06o4J",
        "outputId": "cfb00c98-aee8-40c7-94bd-ef07e8a1a8ae"
      },
      "source": [
        "\n",
        "\n",
        "\n",
        "for word in testing_words:\n",
        "  fox_gun_dists = []\n",
        "  for ind in range(len(adjectives)):\n",
        "    adj = adjectives[ind]\n",
        "    try:\n",
        "      dist = model.wv.distance(word, adj)\n",
        "      fox_gun_dists.append([word, adj, dist])\n",
        "    except:\n",
        "      fox_gun_dists.append([word, adj, None])\n",
        "    \n",
        "\n",
        "  df = pd.DataFrame(fox_gun_dists, columns=['word', 'adj', 'dist'])\n",
        "\n",
        "    \n",
        "  print(df.shape)\n",
        "\n",
        "  df_sorted = df.sort_values(by='dist', ascending=True)\n",
        "  print(df_sorted.head(5))\n"
      ],
      "execution_count": null,
      "outputs": [
        {
          "output_type": "stream",
          "name": "stdout",
          "text": [
            "(423, 3)\n",
            "    word        adj      dist\n",
            "342  gun    driving  0.654319\n",
            "167  gun  malicious  0.724105\n",
            "373  gun   criminal  0.725976\n",
            "400  gun      fixed  0.726856\n",
            "299  gun  invisible  0.727636\n",
            "(423, 3)\n",
            "      word          adj      dist\n",
            "334  metoo  progressive  0.541311\n",
            "155  metoo     humorous  0.551896\n",
            "339  metoo      intense  0.557299\n",
            "219  metoo    patriotic  0.563261\n",
            "125  metoo      hateful  0.564394\n",
            "(423, 3)\n",
            "        word         adj      dist\n",
            "219  america   patriotic  0.615573\n",
            "181  america  courageous  0.631666\n",
            "416  america      modern  0.632552\n",
            "375  america       proud  0.637101\n",
            "286  america   oppressed  0.638124\n",
            "(423, 3)\n",
            "    word        adj      dist\n",
            "296  tax   balanced  0.518489\n",
            "270  tax     modest  0.559856\n",
            "379  tax      solid  0.590156\n",
            "48   tax  deceitful  0.622806\n",
            "273  tax  ambitious  0.643348\n",
            "(423, 3)\n",
            "         word           adj      dist\n",
            "409  abortion     religious  0.391475\n",
            "347  abortion        strict  0.452998\n",
            "346  abortion       neutral  0.490430\n",
            "334  abortion   progressive  0.511631\n",
            "318  abortion  conservative  0.546551\n",
            "(423, 3)\n",
            "         word           adj      dist\n",
            "320  democrat      moderate  0.305075\n",
            "334  democrat   progressive  0.339174\n",
            "318  democrat  conservative  0.354518\n",
            "365  democrat       liberal  0.405647\n",
            "221  democrat   competitive  0.446428\n",
            "(423, 3)\n",
            "           word           adj      dist\n",
            "320  republican      moderate  0.316485\n",
            "334  republican   progressive  0.391824\n",
            "318  republican  conservative  0.402676\n",
            "221  republican   competitive  0.414303\n",
            "365  republican       liberal  0.509721\n",
            "(423, 3)\n",
            "    word           adj      dist\n",
            "96   nra     outspoken  0.421298\n",
            "365  nra       liberal  0.551452\n",
            "318  nra  conservative  0.561476\n",
            "264  nra  enthusiastic  0.562789\n",
            "334  nra   progressive  0.563764\n",
            "(423, 3)\n",
            "      word         adj      dist\n",
            "226  trump       tough  0.578685\n",
            "280  trump  ridiculous  0.613841\n",
            "308  trump       vague  0.631396\n",
            "230  trump    cautious  0.650984\n",
            "147  trump  optimistic  0.652190\n",
            "(423, 3)\n",
            "      word       adj      dist\n",
            "214  biden    hearty  0.508728\n",
            "195  biden   amiable  0.515531\n",
            "196  biden  retiring  0.516371\n",
            "117  biden     naive  0.520116\n",
            "242  biden     crazy  0.570149\n",
            "(423, 3)\n",
            "      word           adj      dist\n",
            "220  china    aggressive  0.509351\n",
            "312  china     expedient  0.565327\n",
            "325  china       hostile  0.568621\n",
            "344  china     objective  0.577064\n",
            "84   china  conciliatory  0.578890\n",
            "(423, 3)\n",
            "    word        adj      dist\n",
            "409  gay  religious  0.392228\n",
            "219  gay  patriotic  0.458604\n",
            "359  gay   faithful  0.485230\n",
            "361  gay   reserved  0.505777\n",
            "268  gay     heroic  0.530846\n",
            "(423, 3)\n",
            "        word        adj      dist\n",
            "359  lesbian   faithful  0.401725\n",
            "81   lesbian   aspiring  0.440256\n",
            "409  lesbian  religious  0.460867\n",
            "143  lesbian  repressed  0.462354\n",
            "102  lesbian  leisurely  0.470127\n"
          ]
        }
      ]
    },
    {
      "cell_type": "code",
      "metadata": {
        "colab": {
          "base_uri": "https://localhost:8080/"
        },
        "id": "t0f8zSe3yiqp",
        "outputId": "0e76fcb2-50dc-4d1b-bcb0-3059e6e021a4"
      },
      "source": [
        ""
      ],
      "execution_count": null,
      "outputs": [
        {
          "output_type": "execute_result",
          "data": {
            "text/plain": [
              "0.66072565"
            ]
          },
          "metadata": {},
          "execution_count": 41
        }
      ]
    },
    {
      "cell_type": "code",
      "metadata": {
        "id": "h6VpmnFQcQ07",
        "colab": {
          "base_uri": "https://localhost:8080/",
          "height": 128
        },
        "outputId": "307e8afe-6a2e-49c6-e740-7d0795aa70f1"
      },
      "source": [
        "#importing google news word2vec\n",
        "\n",
        "\n",
        "\n",
        "for word in testing_words:\n",
        "  gn_dists = []\n",
        "  for ind in range(len(adjectives)):\n",
        "    adj = adjectives[ind]\n",
        "    try:\n",
        "      dist = gn_model.wv.distance(word, adj)\n",
        "      gn_dists.append([word, adj, dist])\n",
        "    except:\n",
        "      gn_dists.append([word, adj, None])\n",
        "    \n",
        "\n",
        "  df = pd.DataFrame(gn_dists, columns=['word', 'adj', 'dist'])\n",
        "\n",
        "    \n",
        "  print(df.shape)\n",
        "\n",
        "  df_sorted = df.sort_values(by='dist', ascending=True)\n",
        "  print(df_sorted.head(5))\n"
      ],
      "execution_count": null,
      "outputs": [
        {
          "output_type": "error",
          "ename": "SyntaxError",
          "evalue": "ignored",
          "traceback": [
            "\u001b[0;36m  File \u001b[0;32m\"<ipython-input-31-de1de7021b35>\"\u001b[0;36m, line \u001b[0;32m7\u001b[0m\n\u001b[0;31m    gn_model = models.KeyedVectors.load_word2vec_format(‘GoogleNews-vectors-negative300.bin’, binary=True)\u001b[0m\n\u001b[0m                                                                  ^\u001b[0m\n\u001b[0;31mSyntaxError\u001b[0m\u001b[0;31m:\u001b[0m invalid character in identifier\n"
          ]
        }
      ]
    }
  ]
}